{
 "cells": [
  {
   "cell_type": "markdown",
   "metadata": {},
   "source": [
    "# PHYS465: markov-chain monte-carlo sandpit"
   ]
  },
  {
   "cell_type": "markdown",
   "metadata": {},
   "source": [
    "This weeks example dataset can be found here `https://raw.githubusercontent.com/MatSmithAstro/phys465_resources/main/workshopws/week14/datasets/sunflower_growth.txt`\n",
    "\n",
    "This file shows the relationship between the size of a sunflower and time as measured by the Quantitative Environmental Learning Project. \n",
    "\n",
    "As with many living systems, it shows an `S-shaped` or sigmoid growth curve \n",
    " * $S(x) = \\frac{1}{1+e^{-x}}$\n",
    "***"
   ]
  },
  {
   "cell_type": "markdown",
   "metadata": {},
   "source": [
    "## <font color='green'>Exercise</font>\n",
    "1. Read in the above dataset and make a plot of sun-flower growth v time\n",
    "2. Write a function that defines a sigmoid function\n",
    "3. Using the `curve_fit` package, determine the best-fitting values for this paramterisation\n",
    "4. Write a function to define the `log_posterior` between this dataset and the model\n",
    "   * _Hint_: Assign statistical errors to normalise the posterior\n",
    "5. Either:\n",
    "   * Write your own code to perform a metropolis hastings sampling of this parameter space\n",
    "   * Use `emcee` to sample this parameter space\n",
    "   * Determine the likelihood for this problem in `pymc` and sample accordinly\n",
    "6. Using either the `corner` or `arviz` library to produce parameter constraints for this model"
   ]
  },
  {
   "cell_type": "markdown",
   "metadata": {},
   "source": [
    "***"
   ]
  }
 ],
 "metadata": {
  "kernelspec": {
   "display_name": "Python 3 (ipykernel)",
   "language": "python",
   "name": "python3"
  },
  "language_info": {
   "codemirror_mode": {
    "name": "ipython",
    "version": 3
   },
   "file_extension": ".py",
   "mimetype": "text/x-python",
   "name": "python",
   "nbconvert_exporter": "python",
   "pygments_lexer": "ipython3",
   "version": "3.11.8"
  }
 },
 "nbformat": 4,
 "nbformat_minor": 4
}
