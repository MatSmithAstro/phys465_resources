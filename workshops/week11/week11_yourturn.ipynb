{
 "cells": [
  {
   "cell_type": "markdown",
   "metadata": {},
   "source": [
    "# PHYS465: pandas and curve-fitting investigations \n",
    "### To be completed in the lab session and your own time"
   ]
  },
  {
   "cell_type": "markdown",
   "metadata": {},
   "source": [
    "Every year the UK government publishes information on graduate earnings. This information can be found [here](https://raw.githubusercontent.com/MatSmithAstro/phys465_resources/main/workshops/week11/datasets/graduate_earnings.csv) and on Moodle."
   ]
  },
  {
   "cell_type": "markdown",
   "metadata": {},
   "source": [
    "The catalogue contains the median earnings (in GBP) of the general public over the past 20 years. This dataset is then further divided into: \n",
    " * `graduate_type`: split into 'non-graduate', 'graduate' and 'post-graduate'\n",
    " * `gender`: split into 'all', 'male' and 'female'\n",
    "\n",
    "The catalogue also provides an uncertainty on earnings derived from the measured distribution. "
   ]
  },
  {
   "cell_type": "markdown",
   "metadata": {},
   "source": [
    "***"
   ]
  },
  {
   "cell_type": "markdown",
   "metadata": {},
   "source": [
    "## <font color='green'>Exercise</font>\n",
    "\n",
    "1. Load this dataset into a pandas dataframe.\n",
    "2. Slice the dataset to sub-select the yearly income of 'graduates' of 'all' gender in the UK.\n",
    "3. Perform a straight line fit to identify the relationship between earnings over time.\n",
    "4. Create a plot of the selected dataset and best fit models with associated uncertainties.\n",
    "5. By looking at the data compare this fit to at least one other functional form of your choice.\n",
    "7. Write a short summary highlighting your interpretations of this relationship. What events have caused this functional form? \n",
    "   \n",
    "## <font color='green'>Extensions</font>\n",
    "1. Using pandas determine the 'excess' salary earned by graduates in the UK, and how this has evolved over time.\n",
    "2. Study the relationship between gender and excess salary over time. Is the gender pay gap in the UK decreasing for all groups? "
   ]
  },
  {
   "cell_type": "markdown",
   "metadata": {},
   "source": [
    "***"
   ]
  }
 ],
 "metadata": {
  "kernelspec": {
   "display_name": "Python 3 (ipykernel)",
   "language": "python",
   "name": "python3"
  },
  "language_info": {
   "codemirror_mode": {
    "name": "ipython",
    "version": 3
   },
   "file_extension": ".py",
   "mimetype": "text/x-python",
   "name": "python",
   "nbconvert_exporter": "python",
   "pygments_lexer": "ipython3",
   "version": "3.11.8"
  }
 },
 "nbformat": 4,
 "nbformat_minor": 4
}
