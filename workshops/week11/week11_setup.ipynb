{
 "cells": [
  {
   "cell_type": "markdown",
   "metadata": {},
   "source": [
    "# PHYS465 : Introducing Jupyter Notebooks & Cloud computing"
   ]
  },
  {
   "cell_type": "markdown",
   "metadata": {},
   "source": [
    "To enable us to remote work and learn the necessary tools for Data Science (and scientific research in general), we will be using two modern computing concepts: \n",
    "  * **interactive coding** (with Jupyter notebooks)\n",
    "    - these are used in all sorts of fields including in intrepreting data of covid-19 infection spread, financial institutions and academia\n",
    "  * **cloud computing** (with Google Colab a free place to run code without needing huge machines)\n",
    "\n",
    "In this notebook we will become familiar with jupyter notebooks and cloud computing. We will need to get started in Google Colab first. All of the instructions in these notebooks will be for running in Google Colab though you can also use your own installation of Jupyter Notebook on your computer (preferably via Anaconda to ensure you have all the material and right software for the course).\n",
    "\n",
    "Jupyter notebooks allow us to write text in cells using the **Markdown** format.\n",
    "\n",
    "It also allows us to write code in cells, we will use **Python 3** in this course."
   ]
  },
  {
   "cell_type": "markdown",
   "metadata": {},
   "source": [
    "## Why are we using these tools?\n",
    "\n",
    "Jupyter notebooks combined with python and cloud computing is pretty much how almost all modern computing in scientific research and in industry is carried out.  It will make online working easier for us in this course. \n",
    "\n",
    "Python 3 is an extremely common open source computing language that allows us to do serious computing in a few lines of code. Again this is widely used in industry. It's easy to learn, clear to read, and simple to write. You have been introduced to the key concepts in PHYS281. "
   ]
  },
  {
   "cell_type": "markdown",
   "metadata": {},
   "source": [
    "## Getting Started\n",
    "\n",
    "2. If you don't have one yet, sign up to a free account on Google.\n",
    "3. Go to [Google colab](https://colab.research.google.com/).  You will land on the introduction page. \n",
    "4. Sign in with your Google account using the blue button in the top right\n",
    "\n",
    "Your screen might look like this:\n",
    "\n",
    "![Screenshot](https://raw.githubusercontent.com/MatSmithAstro/phys465_resources/main/workshops/week11/images/colab_login_screen.png)\n",
    "***"
   ]
  },
  {
   "cell_type": "markdown",
   "metadata": {},
   "source": [
    "### Creating a new notebook or accessing files\n",
    "\n",
    "You can see at the top in the orange bar that there are a few options: we can upload files, we can load in files from Google Drive, we can load in examples or see recent work. In the list, we can see our current Jupyter Notebooks. To open these we can simply click on them.\n",
    "\n",
    "To create a new notebook, we can go to settings and click <font color=\"blue\">New notebook in Drive</font>. This will take you to a notebook without a title.\n",
    "\n",
    "![Screenshot](https://raw.githubusercontent.com/MatSmithAstro/phys465_resources/main/workshops/week11/images/new_notebook.png)\n",
    "\n",
    "You change the name for your notebook e.g. `myfirstjupyternotebook.ipynb` and select whether you want a code or text cell.\n",
    "\n",
    "Open your notebook. Hopefully it will not look to strange to you since Jupyter Notebooks is simply a word processor and code compiler in one. Take some time to look at the menus and see what different options there are. \n"
   ]
  },
  {
   "cell_type": "markdown",
   "metadata": {},
   "source": [
    "### Notebook cells\n",
    "\n",
    "The notebook contains cells. A cell is a place to either display text or to write some code to be executed by the notebook’s kernel. A kernel is the engine that runs the cells in the notebook.\n",
    "\n",
    "The code we will use is Python 3. Here is an example code. To execute this cell click the play sign. "
   ]
  },
  {
   "cell_type": "code",
   "execution_count": 1,
   "metadata": {},
   "outputs": [
    {
     "name": "stdout",
     "output_type": "stream",
     "text": [
      "Hello world\n"
     ]
    }
   ],
   "source": [
    "print('Hello world')"
   ]
  },
  {
   "cell_type": "markdown",
   "metadata": {},
   "source": [
    "Note that : \n",
    " * in Juypter cells are executed in the order you execute them. each subsequent cell will recall all results\n",
    "    - you can use the number next to the cell to recall the order\n",
    "    - to clear the outputs click \"Edit -> Clear all outputs\".\n",
    "    - to restart a notebook (and forget everything) click \"Runtime -> Restart session\"\n",
    "    - if you are using Anaconda then use \"Kernel > Restart\" to clear your environment.\n",
    " * in Colab, the 'maximum lifetime' of a running notebook is 12 hours if you leave the browser open. An idle notebook instance cuts-off after 90 minutes. "
   ]
  },
  {
   "cell_type": "markdown",
   "metadata": {},
   "source": [
    "### Some useful things\n",
    "\n",
    "1. On the left hand side is a hidden menu that contains useful things. It includes code snippets which you can use or even add to if you want.  It also shows a \"table of contents\" of your current notebook, allowing you to navigate easily to whichever part of the notebook you want.\n",
    "\n",
    "![Screenshot](https://raw.githubusercontent.com/MatSmithAstro/phys465_resources/main/workshops/week11/images/hidden_features.png)\n",
    "\n",
    "2. The small folder symbol below this navigation menu is where you can upload data files relevant to the Jupyter Notebook you're working on.\n",
    "\n",
    "3. You can download your Notebook using \"File > Download as\".\n",
    "\n",
    "4. You can stop executing notebooks by clicking on \"Manage your sessions\" in the \"Tools\" menu.  This will open all the notebooks that are currently running and you can stop them."
   ]
  },
  {
   "cell_type": "markdown",
   "metadata": {},
   "source": [
    "## Opening up the exercises and coursework assessments\n",
    "\n",
    "Workshop material is available both through Moodle and GitHub. \n",
    "\n",
    "1. In Moodle either copy the GitHub link provided, or download the relevant notebook. \n",
    "2. Go to the Google Colab site and log in\n",
    "3. select \"File > Open Notebook\" and select either the **Github** or **Upload** option. \n",
    "4. Either paste the url or click on the relevant file\n",
    "\n",
    "If you have your own Anaconda installation, then the easiest approach is to download the relevant notebook. \n"
   ]
  },
  {
   "cell_type": "markdown",
   "metadata": {},
   "source": [
    "## Saving\n",
    "\n",
    "Don't forget to **Save** your notebook. Do this via clicking \"File > Save\" or pressing Ctrl + S.  \n",
    "\n",
    "NB : If you have loaded the file from GitHub, then you'll need to select \"Save a copy to Drive\" to save your own copy. It will then be available when you next try to open files in Colab. \n",
    "\n",
    "It is advised to save your changes regularly as computers or browsers can crash or 'hang'. \n",
    "\n",
    "Make sure you name your file something sensible eg Week11_notes.ipynb, Week11_answers.ipynb etc. "
   ]
  },
  {
   "cell_type": "markdown",
   "metadata": {},
   "source": [
    "## Submitting coursework\n",
    "\n",
    "For submission of coursework assessments (4 pieces) you will need to submit the results of your Jupyter Notebook to Moodle.  To test whether your code works, you must submit the `ipynb` file. \n",
    "\n",
    " * Don’t forget to double check that the output file you created has **all the cells compiled** before you submit.   \n",
    " * This will store all of your outputs.\n",
    " * If you develop your own code in separate files do not forget to include those too.\n",
    "\n",
    "A part of coursework will be to summarise your results. This can be written in markup format at the end of the notebook.\n",
    "\n",
    "Make sure you name your file something sensible eg Coursework1_answers.ipynb "
   ]
  },
  {
   "cell_type": "markdown",
   "metadata": {},
   "source": [
    "## Tips and warnings"
   ]
  },
  {
   "cell_type": "markdown",
   "metadata": {},
   "source": [
    "1. You do not have to use Google Colab, you can use your own installation of Jupyter notebooks by downloading Anaconda3 to your computer. Please ensure that you submit all code, and recorded outputs as part of your submission\n",
    "\n",
    "2. You can find all of the notebooks and assessments on Moodle. Each week will be released prior to the lecture.\n",
    "\n",
    "3. In the feedback sessions I will go over the coursework exercises, highlighting common mistakes where appropriate. \n",
    "\n",
    "4. Reading the [Google colab overview](https://colab.research.google.com/notebooks/basic_features_overview.ipynb) is a good starting point for Jupyter notebooks."
   ]
  },
  {
   "cell_type": "markdown",
   "metadata": {},
   "source": [
    "## WARNING: using GenAI tools\n",
    "The university has provided guidance on the use of GenAI in assignments. All submitted work should be your own, and you should be able to defend it. \n",
    "\n",
    "![Screenshot](https://raw.githubusercontent.com/MatSmithAstro/phys465_resources/main/workshops/week11/images/gen_AI.png)\n",
    "\n",
    "  * Google Colab contains AI assistance for code development. This is routine practice in industry today\n",
    "\n",
    "For assignments:\n",
    "\n",
    "**Allowed**\n",
    "  * Generating ideas for coding and analysis\n",
    "  * Assistance for code development\n",
    "    \n",
    "**Not allowed** (for example)\n",
    "  * Generated text for interpretation\n",
    "  * Generating solutions\n",
    "  * Generating plots"
   ]
  },
  {
   "cell_type": "markdown",
   "metadata": {},
   "source": [
    "***"
   ]
  }
 ],
 "metadata": {
  "kernelspec": {
   "display_name": "Python 3 (ipykernel)",
   "language": "python",
   "name": "python3"
  },
  "language_info": {
   "codemirror_mode": {
    "name": "ipython",
    "version": 3
   },
   "file_extension": ".py",
   "mimetype": "text/x-python",
   "name": "python",
   "nbconvert_exporter": "python",
   "pygments_lexer": "ipython3",
   "version": "3.11.8"
  }
 },
 "nbformat": 4,
 "nbformat_minor": 4
}
