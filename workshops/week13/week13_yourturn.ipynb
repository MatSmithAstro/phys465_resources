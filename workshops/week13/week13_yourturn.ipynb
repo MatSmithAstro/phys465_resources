{
 "cells": [
  {
   "cell_type": "markdown",
   "metadata": {},
   "source": [
    "# PHYS465: clustering testbed \n",
    "### To be completed in the lab session and your own time"
   ]
  },
  {
   "cell_type": "markdown",
   "metadata": {},
   "source": [
    "This exercise follows on from the `week13_clustering.ipynb` notebook and aims to develop your understanding and intuition around clustering metrics.\n",
    "\n",
    "The questions below should act as guidance: you are encouraged to explore how different changing the datasets affects the distribution of clustering"
   ]
  },
  {
   "cell_type": "markdown",
   "metadata": {},
   "source": [
    "***"
   ]
  },
  {
   "cell_type": "markdown",
   "metadata": {},
   "source": [
    "## <font color='green'>Exercise</font>\n",
    "\n",
    "1. Use random number generators to generate a dataset of 200 points drawn from 4 clusters.\n",
    "   * Each cluster should be 50 points that are drawn from a gaussian distribution with:\n",
    "      * (x,y, sigma_x, sigma_y) = (2, 1, 0.3, 0.3)\n",
    "      * (x,y, sigma_x, sigma_y) = (2, 0, 1.0, 0.1)\n",
    "      * (x,y, sigma_x, sigma_y) = (0, 1, 1.0, 1.0)\n",
    "      * (x,y, sigma_x, sigma_y) = (4, -1, 0.4, 0.4)\n",
    "2. Plot this dataset. Label each cluster appropriately\n",
    "3. Use a Kmeans algorithm to determine cluster centres assuming 3,4,5,6 clusters\n",
    "4. Perform hierarchical clustering on this dataset using a Ward metric\n",
    "5. Visualise the results using a dendrogram\n",
    "6. Select a viable cut-off for the number of clusters and plot the results\n",
    "7. Use a k-nearest neighbours algorithm to classify the dataset into 4 clusters.\n",
    "   * Start with a value of k=10\n",
    "9. Draw an independent representation of cluster 3, and using the knn result predict their membership\n",
    "10. Calculate the accuracy of the classification algorithm"
   ]
  },
  {
   "cell_type": "markdown",
   "metadata": {},
   "source": [
    "***"
   ]
  },
  {
   "cell_type": "code",
   "execution_count": null,
   "metadata": {},
   "outputs": [],
   "source": []
  }
 ],
 "metadata": {
  "kernelspec": {
   "display_name": "Python 3 (ipykernel)",
   "language": "python",
   "name": "python3"
  },
  "language_info": {
   "codemirror_mode": {
    "name": "ipython",
    "version": 3
   },
   "file_extension": ".py",
   "mimetype": "text/x-python",
   "name": "python",
   "nbconvert_exporter": "python",
   "pygments_lexer": "ipython3",
   "version": "3.11.8"
  }
 },
 "nbformat": 4,
 "nbformat_minor": 4
}
