{
 "cells": [
  {
   "cell_type": "markdown",
   "metadata": {},
   "source": [
    "# PHYS465: pandas, advanced plotting and parameter estimation testbed \n",
    "### To be completed in the lab session and your own time"
   ]
  },
  {
   "cell_type": "markdown",
   "metadata": {},
   "source": [
    "The food delivery industry is a fast growing and competitve field. To optimise service, multiple datasets have been released. You can find one, here : `https://raw.githubusercontent.com/MatSmithAstro/phys465_resources/main/workshops/week12/datasets/Food_Delivery_Times.csv`"
   ]
  },
  {
   "cell_type": "markdown",
   "metadata": {},
   "source": [
    "For a set of deliveries, this catalogue contains information on :\n",
    " * The distance travelled (in km)\n",
    " * The weather conditions\n",
    " * The level of traffic\n",
    " * The time of day\n",
    " * The vehicle used\n",
    " * The time taken to prepare the food (in minutes)\n",
    " * The experience of the courier (in years)\n",
    " * The time taken to deliver the food (in minutes)"
   ]
  },
  {
   "cell_type": "markdown",
   "metadata": {},
   "source": [
    "***"
   ]
  },
  {
   "cell_type": "markdown",
   "metadata": {},
   "source": [
    "## <font color='green'>Exercise</font>\n",
    "\n",
    "1. Load this dataset into a pandas dataframe.\n",
    "2. To assign an uncertainty on delivery time, for each entry, draw from a uniform distribution (between 2 and 5). Store this as a variable in the dataframe\n",
    "   * NB: This exercise should not require a loop\n",
    "   * To include a statistical uncertainty, you can also include an additional term, drawn from a normal distribution (centred on 0, with width 0.2), related to the delivery time.\n",
    "4. Using internal functions, calculate the Spearman Rank correlation between distance travelled and delivery time\n",
    "5. Using the `curve_fit` calculate the line of best-fit between distance travelled and delivery time and the $\\chi^2$ statistic for this relationship. Repeat this for the relationship between delivery time and courier experience. \n",
    "6. Create a plot of the selected dataset and best fit models with associated uncertainties. This plot should contain at least two panels. \n",
    "7. By considering multiple values of the slope, calculate the $\\chi^2$ statistic at a range of slopes. Store the results in a data frame\n",
    "8. Within this dataframe, find the best-fit $\\chi^2$, and using the look up tables to calculate the uncertainty on the slope.\n",
    "9. By considering a likelihood, convert the $\\chi^2$ values to _normalised_ probabilities. Plot the distribution as a histogram\n",
    "10. Repeat the above exercise, only varying 2 parameters. The final result should be a contour of the two variables. \n",
    "11. Write a short summary highlighting your interpretations of this relationship. What events have caused this functional form? \n",
    "   \n",
    "## <font color='green'>Extensions</font>\n",
    "1. Expand the fitting function to include an extra parameter related to courier experience. Notice how the inclusion of an additional parameter influences the resulting uncertainty. \n",
    "2. Using pandas split the dataset by the other variables to determine the optimal method to deliver food "
   ]
  },
  {
   "cell_type": "markdown",
   "metadata": {},
   "source": [
    "***"
   ]
  }
 ],
 "metadata": {
  "kernelspec": {
   "display_name": "Python 3 (ipykernel)",
   "language": "python",
   "name": "python3"
  },
  "language_info": {
   "codemirror_mode": {
    "name": "ipython",
    "version": 3
   },
   "file_extension": ".py",
   "mimetype": "text/x-python",
   "name": "python",
   "nbconvert_exporter": "python",
   "pygments_lexer": "ipython3",
   "version": "3.11.8"
  }
 },
 "nbformat": 4,
 "nbformat_minor": 4
}
