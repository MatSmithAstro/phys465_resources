{
 "cells": [
  {
   "cell_type": "markdown",
   "metadata": {},
   "source": [
    "# PHYS465: Coursework Exercise 4: Part 2\n",
    "### Deadline Monday 17th Feb @ 4pm"
   ]
  },
  {
   "cell_type": "markdown",
   "metadata": {},
   "source": [
    "### This coursework assesses the learning outcomes from Week 15.\n",
    "\n",
    "The final coursework exercise for PHYS465 is made up of 2 parts. This is part 2. Your submission should include both exercises."
   ]
  },
  {
   "cell_type": "markdown",
   "metadata": {},
   "source": [
    "## <font color='blue'>Instructions</font>\n",
    " * Submit your work via Moodle.\n",
    " * You must submit a fully compiled `.ipynb` file which includes all codes required to replicate your results **and** a .pdf version. \n",
    "    * **Dont forget to run every cell before submitting**\n",
    "    * You must also respond to the mandatory GenAI self-assessment questionaire. \n",
    " * Your submission must include text (in markup format) that describes what each cell does and summarises the conclusions\n",
    " * The estimated workload for this is 4-6 hours. \n",
    " \n",
    "### <font color='green'>Tips</font>\n",
    " * The last question of this exercise asks you identify a key result. **To do this you do not have to have completed all exercises**. This assessment is designed to test your reflections on the problem undertaken. \n",
    " * Don't worry too much about how your code looks - while some marks will be given for sensible coding, the focus of this assessmnt is your approach used in solving the problem, your reasoning, explanation and answer.\n",
    " * As data visualisation is a key outcome, marks will be given for well presented plots \n",
    " * Explain all your reasoning for each step. A *significant fraction* of the marks are given for explanations and discussion, as they evidence understanding of the analysis.  \n",
    " * Include all relevant lines of code including import statements and read statements. As part of the assessment your code will be run offline. \n",
    "\n",
    "### <font color='red'>WARNING</font>\n",
    " * This submission must be your own work. Please note the university's policy on plagiarism.\n",
    " * While it is acceptable (and indeed encouraged) to share ideas, you must ensure that you do not use other people's code or text, and that the reflections are your own.\n",
    " * It is acceptable to use GenAI tools for guidance on how to approach this exercise, but you must ensure that all code is written by you.\n",
    "   * Should you use GenAI in this work, then answer yes to the GenAI self-assessment. You will not be penalised for this. \n",
    "***"
   ]
  },
  {
   "cell_type": "markdown",
   "metadata": {},
   "source": [
    "## The Problem\n",
    "\n",
    "**Dataset 1**: \n",
    "\n",
    "For this exercise, we will use data from the Titanic to predict the likelihood of survival. \n",
    "\n",
    "Two datasets are available: \n",
    " * Training data: `https://raw.githubusercontent.com/MatSmithAstro/phys465_resources/main/coursework/datasets/titanic_train.csv`\n",
    " * Test data: `https://raw.githubusercontent.com/MatSmithAstro/phys465_resources/main/coursework/datasets/titanic_test.csv`\n",
    "\n",
    "For each of the two datasets, the following variables are available: \n",
    " * `survival`: Survival\t(0 = No, 1 = Yes)\n",
    " * `pclass`\t: Ticket class (1 = 1st, 2 = 2nd, 3 = 3rd)\n",
    " * `sex`\t: Sex (or Gender)\n",
    " * `Age`\t: Age in years \n",
    " * `sibsp`\t: Number of siblings / spouses aboard the Titanic\t\n",
    " * `parch`\t: Number of parents / children aboard the Titanic\t\n",
    " * `ticket`\t: Ticket number\t\n",
    " * `fare`\t: Passenger fare\t\n",
    " * `cabin`\t: Cabin number\t\n",
    " * `embarked`: Port of Embarkation (C = Cherbourg, Q = Queenstown, S = Southampton)\n",
    "***"
   ]
  },
  {
   "cell_type": "markdown",
   "metadata": {},
   "source": [
    "## <font color='green'>Part 1: Dataset Analysis</font>\n",
    "\n",
    "1. Read the dataset into a pandas dataframe and identify the features for training <div align=\"right\">**[2 mark]**</div><br>\n",
    "2. Make a multi-panel plot to show the relationship between survival and the key parameters of interest for the training dataset <div align=\"right\">**[5 marks]**</div><br>\n",
    "3. Make a multi-panel plot to show how representative the training dataset is of the test dataset. <div align=\"right\">**[5 marks]**</div><br>\n",
    "3. For the parameters that you have decided are importance predictors of survival, recast the parameters to be between [0,1], or so that they are suitable for a boosted decision tree model\n",
    " * _Hint_: do not forget to replce blank entries <div align=\"right\">**[3 marks]**</div><br>\n",
    "5. Split the training data in two, saving 25% of events for model testing <div align=\"right\">**[3 marks]**</div><br>\n",
    "6. Create a booted random forest model to predict `survival` given your parameters of interest\n",
    "   * _NB_: the tree should be optimised using the AUC metric. <div align=\"right\">**[5 marks]**</div><br>\n",
    "7. Determine the importance of all feature's considered, and calculate the key metrics (accuacy, precision and recall) for the final model <div align=\"right\">**[5 marks]**</div><br>\n",
    "8. Visualise final model <div align=\"right\">**[4 marks]**</div><br>\n",
    "9. Make predictions for all members of the test dataset. Visualise the results. <div align=\"right\">**[4 marks]**</div><br>\n",
    "10. Predict the outcomes for two fictious passengers : Jack, a 20 year old, 3rd class passenger, and Rose, a 17 year old first class passenger. <div align=\"right\">**[1 mark]**</div><br>\n",
    "\n",
    "**Maximum possible** 35"
   ]
  },
  {
   "cell_type": "markdown",
   "metadata": {},
   "source": [
    "## <font color='green'>Part 2: Extension and Summarising remarks </font>\n",
    "\n",
    "1. **Model Extensions** Using the results discovered above, either:\n",
    "   * Test the effect of including, excluding and combining the parameters on the final model\n",
    "   * Train a Neural Network model on the above dataset (using e.g. the `TensorFlow` library) and compare results<div align=\"right\">**[8 marks]**</div><br>\n",
    "\n",
    "2. **Summary Statement**. Write a short reflective statement (200 words max) summarising a key result from Part 2. You may include a maximum of one figure. Key topics to consider are biases in the dataset, simplified parameters, consequences for future disasaters. A significant fraction of the marks are awarded for reflective thinking: what did you learn? If you did not make it to Part 2, then reflect on your learning from Part 1 <div align=\"right\">**[8 marks]**</div><br>\n",
    "\n",
    "**Additional Marks** Marks will be awarded for notebooks, codes and plots that are well explained and well formatted. In particular, attention will be given to sensible variable names, easy to follow comments and notebook structure. <div align=\"right\">**[6 marks]**</div><br>\n",
    "\n",
    "**Maximum possible** 22\n",
    "\n",
    "**Total marks available** 57"
   ]
  },
  {
   "cell_type": "markdown",
   "metadata": {},
   "source": [
    "***"
   ]
  }
 ],
 "metadata": {
  "kernelspec": {
   "display_name": "Python 3 (ipykernel)",
   "language": "python",
   "name": "python3"
  },
  "language_info": {
   "codemirror_mode": {
    "name": "ipython",
    "version": 3
   },
   "file_extension": ".py",
   "mimetype": "text/x-python",
   "name": "python",
   "nbconvert_exporter": "python",
   "pygments_lexer": "ipython3",
   "version": "3.11.8"
  }
 },
 "nbformat": 4,
 "nbformat_minor": 4
}
