{
 "cells": [
  {
   "cell_type": "markdown",
   "metadata": {},
   "source": [
    "# PHYS465: Coursework Exercise 1 \n",
    "### Deadline Monday 20th Jan @ 4pm. "
   ]
  },
  {
   "cell_type": "markdown",
   "metadata": {},
   "source": [
    "### This coursework assesses the learning outcomes from Week 11. It is worth 20% of the overall module mark. "
   ]
  },
  {
   "cell_type": "markdown",
   "metadata": {},
   "source": [
    "## <font color='blue'>Instructions</font>\n",
    " * Submit your work via Moodle.\n",
    " * You must submit a fully compiled `.ipynb` file which includes all codes required to replicate your results\n",
    "    * **Dont forget to run every cell before submitting**\n",
    "    * You must also respond to the mandatory GenAI self-assessment questionaire. \n",
    " * Your submission must include text (in markup format) that describes what each cell does and summarises the conclusions\n",
    " * The estimated workload for this is 4-6 hours. \n",
    " \n",
    "### <font color='green'>Tips</font>\n",
    " * The last question of this exercise asks you identify a key result. **To do this you do not have to have completed all exercises**. This assessment is designed to test your reflections on the problem undertaken. \n",
    " * Don't worry about how your code looks - marks are not given for pretty code, but rather for the approach used in solving the problem, your reasoning, explanation and answer.\n",
    " * Conversely, marks will be given for well presented plots \n",
    " * Explain all your reasoning for each step. A *significant fraction* of the marks are given for explanations and discussion, as they evidence understanding of the analysis.  \n",
    " * Include all relevant lines of code including import statements and read statements. As part of the assessment your code will be run offline. \n",
    "\n",
    "### <font color='red'>WARNING</font>\n",
    " * This submission must be your own work. Please note the university's policy on plagiarism.\n",
    " * While it is acceptable (and indeed encouraged) to share ideas, you must ensure that you do not use other people's code or text, and that the reflections are your own.\n",
    " * It is acceptable to use GenAI tools for guidance on how to approach this exercise, but you must ensure that all code is written by you.\n",
    "   * Should you use GenAI in this work, then answer yes to the GenAI self-assessment. You will not be penalised for this. \n",
    "***"
   ]
  },
  {
   "cell_type": "markdown",
   "metadata": {},
   "source": [
    "## The Problem\n",
    "\n",
    "The World Happiness Report is published every year by the Sustainable Development Solutions Network (SDSN). \n",
    "This dataset uses polling to estimate the 'happiness' of people across the globe. \n",
    "Download the catalogue (from 2023) here: https://raw.githubusercontent.com/MatSmithAstro/phys465_resources/main/coursework/datasets/happiness_score.csv or from Moodle.\n"
   ]
  },
  {
   "cell_type": "markdown",
   "metadata": {},
   "source": [
    "The catalogue contains the happiness scores (and an associated uncertainty) for each country along with 6 other variables : \n",
    " * `Logged GDP per capita`: The logarithm of the countrys gross domestic product (GDP) per capita.\n",
    " * `Social support`: A measure of the perceived social support in the country.\n",
    " * `Life expectancy`: The average number of years a person is expected to live in the country.\n",
    " * `Freedom to make choices`: The degree to which individuals think they have freedom.\n",
    " * `Generosity`: The level of generosity reported by individuals in the country. \n",
    " * `Corruption`: The perception of corruption within the country\n",
    " * `Dystopia`: The hypothetical happiness score in a dystopian society. This is used as a reference point.\n"
   ]
  },
  {
   "cell_type": "markdown",
   "metadata": {},
   "source": [
    "***"
   ]
  },
  {
   "cell_type": "markdown",
   "metadata": {},
   "source": [
    "## <font color='green'>Exercise</font>\n",
    "\n",
    "1. Load this dataset into a pandas dataframe.  <div align=\"right\">**[2 mark]**</div><br>\n",
    "2. Perform a straight line fit between `GDP per capita` and the measured `happiness` levels using the measured uncertainties. <div align=\"right\">**[4 marks]**</div><br>\n",
    "3. Produce a plot of `GDP per capita` v `happiness`. Include both the associated error bars and line-of-best-fit.\n",
    "   1. NB: 50\\% of the marks will be awarded for clarity of presentation<div align=\"right\">**[6 marks]**</div><br>\n",
    "4. Write **your own function** to calculate the $\\chi^2$ statistic between the dataset and your line-of-best-fit and calculate the reduced $\\chi^2$ statistic between the dataset and best-fitting model.<div align=\"right\">**[6 marks]**</div><br>\n",
    "5. Based on the observed correlation, select another functional form of your choosing, perform a least-squares-fit and compare the $\\chi^2$ statistics to determine the most likely function. Plot the results. <div align=\"right\">**[7 marks]**</div><br>\n",
    "6. Either:\n",
    "   1. Split the dataset into different regions, and determine the region where GDP is most strongly correlated with happiness\n",
    "   2. include multiple input parameters (e.g. `Social Support`) into the linear fit and determine the strongest correlation\n",
    "   3. <font color='blue'>Note:</font> You do not need to test all regions or all input parameters, but results should be accompanied with plots. <div align=\"right\">**[8 marks]**</div><br>\n",
    "7. **Summary Statement**. Write a short statement (200 words max) summarising a key result from this work and the consequence of it. You may include a maximum of one figure. <div align=\"right\">**[9 marks]**</div><br>\n",
    "\n",
    "**Additional Marks** Marks will be awarded for notebooks, codes and plots that are well explained and well formatted. In particular, attention will be given to sensible variable names, easy to follow comments and notebook structure. <div align=\"right\">**[8 marks]**</div><br>\n"
   ]
  },
  {
   "cell_type": "markdown",
   "metadata": {},
   "source": [
    "***"
   ]
  }
 ],
 "metadata": {
  "kernelspec": {
   "display_name": "Python 3 (ipykernel)",
   "language": "python",
   "name": "python3"
  },
  "language_info": {
   "codemirror_mode": {
    "name": "ipython",
    "version": 3
   },
   "file_extension": ".py",
   "mimetype": "text/x-python",
   "name": "python",
   "nbconvert_exporter": "python",
   "pygments_lexer": "ipython3",
   "version": "3.11.8"
  }
 },
 "nbformat": 4,
 "nbformat_minor": 4
}
